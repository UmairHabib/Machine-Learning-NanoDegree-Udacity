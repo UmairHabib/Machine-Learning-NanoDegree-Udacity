{
 "cells": [
  {
   "cell_type": "markdown",
   "metadata": {
    "collapsed": true
   },
   "source": [
    "# Cancer Test Results"
   ]
  },
  {
   "cell_type": "code",
   "execution_count": 3,
   "metadata": {},
   "outputs": [
    {
     "name": "stdout",
     "output_type": "stream",
     "text": [
      "    patient_id test_result  has_cancer\n",
      "0        79452    Negative       False\n",
      "1        81667    Positive        True\n",
      "2        76297    Negative       False\n",
      "3        36593    Negative       False\n",
      "4        53717    Negative       False\n",
      "5        67134    Negative       False\n",
      "6        40436    Negative       False\n",
      "7        77872    Positive        True\n",
      "8        78761    Positive        True\n",
      "9        71212    Negative       False\n",
      "10       66393    Positive       False\n",
      "11       35104    Negative       False\n",
      "12       74296    Negative       False\n",
      "13       56940    Positive       False\n",
      "14       56242    Negative       False\n"
     ]
    }
   ],
   "source": [
    "# load dataset\n",
    "import pandas as pd\n",
    "\n",
    "df= pd.read_csv(\"cancer_test_data.csv\")\n",
    "print(df.head(15))"
   ]
  },
  {
   "cell_type": "code",
   "execution_count": 4,
   "metadata": {},
   "outputs": [
    {
     "name": "stdout",
     "output_type": "stream",
     "text": [
      "2914\n"
     ]
    }
   ],
   "source": [
    "# number of patients\n",
    "numOfPatients= df.shape[0]\n",
    "print(numOfPatients)"
   ]
  },
  {
   "cell_type": "code",
   "execution_count": 6,
   "metadata": {},
   "outputs": [
    {
     "name": "stdout",
     "output_type": "stream",
     "text": [
      "306\n"
     ]
    }
   ],
   "source": [
    "# number of patients with cancer\n",
    "numOfCancerPatients= df[df[\"has_cancer\"]==True].shape[0]\n",
    "print(numOfCancerPatients)"
   ]
  },
  {
   "cell_type": "code",
   "execution_count": 7,
   "metadata": {},
   "outputs": [
    {
     "name": "stdout",
     "output_type": "stream",
     "text": [
      "2608\n"
     ]
    }
   ],
   "source": [
    "# number of patients without cancer\n",
    "numOfNoCancerPatients= df[df[\"has_cancer\"]==False].shape[0]\n",
    "print(numOfNoCancerPatients)"
   ]
  },
  {
   "cell_type": "code",
   "execution_count": 8,
   "metadata": {},
   "outputs": [
    {
     "name": "stdout",
     "output_type": "stream",
     "text": [
      "0.10501029512697323\n"
     ]
    }
   ],
   "source": [
    "# proportion of patients with cancer\n",
    "cancerPatientProportion= numOfCancerPatients/numOfPatients\n",
    "print(cancerPatientProportion)"
   ]
  },
  {
   "cell_type": "code",
   "execution_count": 9,
   "metadata": {},
   "outputs": [
    {
     "name": "stdout",
     "output_type": "stream",
     "text": [
      "0.8949897048730268\n"
     ]
    }
   ],
   "source": [
    "# proportion of patients without cancer\n",
    "NoCancerPatientProportion= numOfNoCancerPatients/numOfPatients\n",
    "print(NoCancerPatientProportion)"
   ]
  },
  {
   "cell_type": "code",
   "execution_count": 26,
   "metadata": {},
   "outputs": [
    {
     "name": "stdout",
     "output_type": "stream",
     "text": [
      "0.9052287581699346\n"
     ]
    }
   ],
   "source": [
    "# proportion of patients with cancer who test positive\n",
    "cancerPatients= df[df[\"has_cancer\"]==True]\n",
    "patientWithPositiveCancer= cancerPatients[cancerPatients[\"test_result\"]==\"Positive\"]\n",
    "print(patientWithPositiveCancer.shape[0]/numOfCancerPatients)\n"
   ]
  },
  {
   "cell_type": "code",
   "execution_count": 27,
   "metadata": {},
   "outputs": [
    {
     "name": "stdout",
     "output_type": "stream",
     "text": [
      "0.09477124183006536\n"
     ]
    }
   ],
   "source": [
    "# proportion of patients with cancer who test negative\n",
    "cancerPatients= df[df[\"has_cancer\"]==True]\n",
    "patientWithNegativeCancer= cancerPatients[cancerPatients[\"test_result\"]==\"Negative\"]\n",
    "print(patientWithNegativeCancer.shape[0]/numOfCancerPatients)"
   ]
  },
  {
   "cell_type": "code",
   "execution_count": 28,
   "metadata": {},
   "outputs": [
    {
     "name": "stdout",
     "output_type": "stream",
     "text": [
      "0.2036042944785276\n"
     ]
    }
   ],
   "source": [
    "# proportion of patients without cancer who test positive\n",
    "cancerPatients= df[df[\"has_cancer\"]==False]\n",
    "patientWithPositiveNoCancer= cancerPatients[cancerPatients[\"test_result\"]==\"Positive\"]\n",
    "print(patientWithPositiveNoCancer.shape[0]/numOfNoCancerPatients)"
   ]
  },
  {
   "cell_type": "code",
   "execution_count": 29,
   "metadata": {},
   "outputs": [
    {
     "name": "stdout",
     "output_type": "stream",
     "text": [
      "0.7963957055214724\n"
     ]
    }
   ],
   "source": [
    "# proportion of patients without cancer who test negative\n",
    "cancerPatients= df[df[\"has_cancer\"]==False]\n",
    "patientWithNegativeNoCancer= cancerPatients[cancerPatients[\"test_result\"]==\"Negative\"]\n",
    "print(patientWithNegativeNoCancer.shape[0]/numOfNoCancerPatients)"
   ]
  },
  {
   "cell_type": "code",
   "execution_count": null,
   "metadata": {},
   "outputs": [],
   "source": []
  }
 ],
 "metadata": {
  "kernelspec": {
   "display_name": "Python 3",
   "language": "python",
   "name": "python3"
  },
  "language_info": {
   "codemirror_mode": {
    "name": "ipython",
    "version": 3
   },
   "file_extension": ".py",
   "mimetype": "text/x-python",
   "name": "python",
   "nbconvert_exporter": "python",
   "pygments_lexer": "ipython3",
   "version": "3.6.3"
  }
 },
 "nbformat": 4,
 "nbformat_minor": 2
}
