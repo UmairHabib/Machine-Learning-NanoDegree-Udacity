{
 "cells": [
  {
   "cell_type": "markdown",
   "metadata": {},
   "source": [
    "# Conditional Probability & Bayes Rule Quiz"
   ]
  },
  {
   "cell_type": "code",
   "execution_count": 2,
   "metadata": {},
   "outputs": [
    {
     "name": "stdout",
     "output_type": "stream",
     "text": [
      "   patient_id test_result  has_cancer\n",
      "0       79452    Negative       False\n",
      "1       81667    Positive        True\n",
      "2       76297    Negative       False\n",
      "3       36593    Negative       False\n",
      "4       53717    Negative       False\n",
      "5       67134    Negative       False\n",
      "6       40436    Negative       False\n",
      "7       77872    Positive        True\n",
      "8       78761    Positive        True\n",
      "9       71212    Negative       False\n"
     ]
    }
   ],
   "source": [
    "# load dataset\n",
    "import pandas as pd\n",
    "df=pd.read_csv(\"cancer_test_data.csv\")\n",
    "print(df.head(10))"
   ]
  },
  {
   "cell_type": "code",
   "execution_count": 8,
   "metadata": {},
   "outputs": [
    {
     "name": "stdout",
     "output_type": "stream",
     "text": [
      "0.34230291241151994\n"
     ]
    }
   ],
   "source": [
    "# What proportion of patients who tested positive has cancer?\n",
    "pCancer=0.105\n",
    "pNoCancer=0.895\n",
    "pPositiveCancer=0.905\n",
    "pNegativeCancer=0.095\n",
    "pPositiveNoCancer=0.204\n",
    "pNegativeNoCancer=0.796\n",
    "\n",
    "jointPositiveCancer= pCancer* pPositiveCancer\n",
    "jointPositiveNoCancer= pNoCancer* pPositiveNoCancer\n",
    "pPos= jointPositiveCancer+jointPositiveNoCancer\n",
    "\n",
    "print(jointPositiveCancer/pPos)"
   ]
  },
  {
   "cell_type": "code",
   "execution_count": 9,
   "metadata": {},
   "outputs": [
    {
     "name": "stdout",
     "output_type": "stream",
     "text": [
      "0.65769708758848\n"
     ]
    }
   ],
   "source": [
    "# What proportion of patients who tested positive doesn't have cancer?\n",
    "print(jointPositiveNoCancer/pPos)"
   ]
  },
  {
   "cell_type": "code",
   "execution_count": 10,
   "metadata": {},
   "outputs": [
    {
     "name": "stdout",
     "output_type": "stream",
     "text": [
      "0.013808235106832134\n"
     ]
    }
   ],
   "source": [
    "# What proportion of patients who tested negative has cancer?\n",
    "\n",
    "jointNegativeCancer= pCancer* pNegativeCancer\n",
    "jointNegativeNoCancer= pNoCancer* pNegativeNoCancer\n",
    "pNeg= jointNegativeCancer+jointNegativeNoCancer\n",
    "\n",
    "print(jointNegativeCancer/pNeg)"
   ]
  },
  {
   "cell_type": "code",
   "execution_count": 11,
   "metadata": {},
   "outputs": [
    {
     "name": "stdout",
     "output_type": "stream",
     "text": [
      "0.986191764893168\n"
     ]
    }
   ],
   "source": [
    "# What proportion of patients who tested negative doesn't have cancer?\n",
    "print(jointNegativeNoCancer/pNeg)"
   ]
  },
  {
   "cell_type": "code",
   "execution_count": null,
   "metadata": {},
   "outputs": [],
   "source": []
  }
 ],
 "metadata": {
  "kernelspec": {
   "display_name": "Python 3",
   "language": "python",
   "name": "python3"
  },
  "language_info": {
   "codemirror_mode": {
    "name": "ipython",
    "version": 3
   },
   "file_extension": ".py",
   "mimetype": "text/x-python",
   "name": "python",
   "nbconvert_exporter": "python",
   "pygments_lexer": "ipython3",
   "version": "3.6.3"
  }
 },
 "nbformat": 4,
 "nbformat_minor": 2
}
